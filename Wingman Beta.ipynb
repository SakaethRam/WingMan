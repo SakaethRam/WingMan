{
  "nbformat": 4,
  "nbformat_minor": 0,
  "metadata": {
    "colab": {
      "provenance": [],
      "authorship_tag": "ABX9TyM9bOPf8xzX6yhNPqNVJ/e7",
      "include_colab_link": true
    },
    "kernelspec": {
      "name": "python3",
      "display_name": "Python 3"
    },
    "language_info": {
      "name": "python"
    }
  },
  "cells": [
    {
      "cell_type": "markdown",
      "metadata": {
        "id": "view-in-github",
        "colab_type": "text"
      },
      "source": [
        "<a href=\"https://colab.research.google.com/github/SakaethRam/ZREX-Wingman/blob/main/Wingman%20Beta.ipynb\" target=\"_parent\"><img src=\"https://colab.research.google.com/assets/colab-badge.svg\" alt=\"Open In Colab\"/></a>"
      ]
    },
    {
      "cell_type": "code",
      "execution_count": null,
      "metadata": {
        "id": "5ph_FDEAIE20"
      },
      "outputs": [],
      "source": [
        "#-------------------------------------------------------------------------- PIP INSTALLS -----------------------------------------------------------------------------\n",
        "!pip install SpeechRecognition openai googletrans==4.0.0-rc1 gtts pillow"
      ]
    },
    {
      "cell_type": "code",
      "source": [
        "import speech_recognition as sr\n",
        "import openai\n",
        "from googletrans import Translator\n",
        "from gtts import gTTS\n",
        "import os\n",
        "import tkinter as tk\n",
        "from PIL import Image, ImageTk\n",
        "\n",
        "#----------------------------------------------------- Function to recognize speech and convert it to text -------------------------------------------------------------\n",
        "def recognize_speech():\n",
        "    recognizer = sr.Recognizer()\n",
        "    with sr.Microphone() as source:\n",
        "        recognizer.adjust_for_ambient_noise(source)\n",
        "        audio = recognizer.listen(source)\n",
        "    try:\n",
        "        text = recognizer.recognize_google(audio, language=\"auto\")\n",
        "        print(f\"User said: {text}\")\n",
        "        return text\n",
        "    except sr.UnknownValueError:\n",
        "        print(\"Sorry, could not understand the audio.\")\n",
        "        return None\n",
        "    except sr.RequestError:\n",
        "        print(\"Could not request results, please check your connection.\")\n",
        "        return None\n"
      ],
      "metadata": {
        "id": "ExfAlAgZIQ9w"
      },
      "execution_count": null,
      "outputs": []
    },
    {
      "cell_type": "code",
      "source": [
        "#--------------------------------------------------------- Function to translate text to a target language -----------------------------------------------------------\n",
        "def translate_text(text, target_lang=\"en\"):\n",
        "    translator = Translator()\n",
        "    translation = translator.translate(text, dest=target_lang)\n",
        "    return translation.text, translation.src\n",
        "\n",
        "#---------------------------------------------------------- Function to get response from OpenAI's GPT model -----------------------------------------------------------\n",
        "def get_gpt_response(prompt):\n",
        "    openai.api_key = \"your-openai-api-key\"\n",
        "    response = openai.ChatCompletion.create(\n",
        "        model=\"gpt-3.5-turbo\",\n",
        "        messages=[{\"role\": \"user\", \"content\": prompt}]\n",
        "    )\n",
        "    return response[\"choices\"][0][\"message\"][\"content\"]\n",
        "\n",
        "#-------------------------------------------------------- Function to convert text to speech and play the audio ---------------------------------------------------------\n",
        "def speak_text(text, lang=\"en\"):\n",
        "    tts = gTTS(text=text, lang=lang)\n",
        "    tts.save(\"response.mp3\")\n",
        "    os.system(\"start response.mp3\" if os.name == \"nt\" else \"afplay response.mp3\")\n",
        "\n",
        "#------------------------------------------------------------- Function to start/stop voice assistant ---------------------------------------------------------------------\n",
        "def toggle_voice_assistant():\n",
        "    global listening\n",
        "    if listening:\n",
        "        listening = False\n",
        "        status_label.config(text=\"Press to Start Listening\")\n",
        "    else:\n",
        "        listening = True\n",
        "        status_label.config(text=\"Listening...\")\n",
        "        user_input = recognize_speech()\n",
        "        if user_input:\n",
        "            translated_input, detected_lang = translate_text(user_input, \"en\")\n",
        "            if detected_lang != \"en\":\n",
        "                print(f\"Translated Prompt (English): {translated_input}\")\n",
        "            gpt_response = get_gpt_response(translated_input)\n",
        "            print(f\"GPT Response ({detected_lang}): {gpt_response}\")\n",
        "            speak_text(gpt_response, detected_lang)\n",
        "            print(\"Do you need the response in English subtitles? (yes/no)\")\n",
        "            user_confirmation = recognize_speech()\n",
        "            if user_confirmation and \"yes\" in user_confirmation.lower():\n",
        "                english_subtitle, _ = translate_text(gpt_response, \"en\")\n",
        "                print(f\"English Subtitle: {english_subtitle}\")"
      ],
      "metadata": {
        "id": "us2OgmBCIScR"
      },
      "execution_count": null,
      "outputs": []
    },
    {
      "cell_type": "code",
      "source": [
        "#------------------------------------------------------------------------- IMAGE UPLOAD -----------------------------------------------------------------------------\n",
        "from google.colab import files\n",
        "\n",
        "# Upload image\n",
        "uploaded = files.upload()\n",
        "\n",
        "# Get the file path of the uploaded image\n",
        "image_path = list(uploaded.keys())[0]  # Gets the uploaded file name dynamically"
      ],
      "metadata": {
        "id": "jCcHf3VJIiME"
      },
      "execution_count": null,
      "outputs": []
    },
    {
      "cell_type": "code",
      "source": [
        "#-------------------------------------------------------------------------- GUI Setup -----------------------------------------------------------------------------\n",
        "root = tk.Tk()\n",
        "root.title(\"Voice Assistant\")\n",
        "root.geometry(\"300x400\")\n",
        "\n",
        "# Load button image\n",
        "image_path = \"button.png\"  # Change this to the path of your chosen PNG file\n",
        "button_image = Image.open(image_path)\n",
        "button_image = button_image.resize((200, 200))\n",
        "button_photo = ImageTk.PhotoImage(button_image)\n",
        "\n",
        "# Button to start/stop voice assistant\n",
        "listening = False\n",
        "status_label = tk.Label(root, text=\"Press to Start Listening\", font=(\"Arial\", 12))\n",
        "status_label.pack(pady=10)\n",
        "voice_button = tk.Button(root, image=button_photo, command=toggle_voice_assistant, borderwidth=0)\n",
        "voice_button.pack()\n",
        "\n",
        "# Run GUI\n",
        "root.mainloop()"
      ],
      "metadata": {
        "id": "jQH0SwknIZhB"
      },
      "execution_count": null,
      "outputs": []
    }
  ]
}